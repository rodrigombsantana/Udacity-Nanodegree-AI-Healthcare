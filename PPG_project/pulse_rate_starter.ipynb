{
 "cells": [
  {
   "cell_type": "markdown",
   "metadata": {},
   "source": [
    "## Part 1: Pulse Rate Algorithm\n",
    "\n",
    "### Contents\n",
    "Fill out this notebook as part of your final project submission.\n",
    "\n",
    "**You will have to complete both the Code and Project Write-up sections.**\n",
    "- The [Code](#Code) is where you will write a **pulse rate algorithm** and already includes the starter code.\n",
    "   - Imports - These are the imports needed for Part 1 of the final project. \n",
    "     - [glob](https://docs.python.org/3/library/glob.html)\n",
    "     - [numpy](https://numpy.org/)\n",
    "     - [scipy](https://www.scipy.org/)\n",
    "- The [Project Write-up](#Project-Write-up) to describe why you wrote the algorithm for the specific case.\n",
    "\n",
    "\n",
    "### Dataset\n",
    "You will be using the **Troika**[1] dataset to build your algorithm. Find the dataset under `datasets/troika/training_data`. The `README` in that folder will tell you how to interpret the data. The starter code contains a function to help load these files.\n",
    "\n",
    "1. Zhilin Zhang, Zhouyue Pi, Benyuan Liu, ‘‘TROIKA: A General Framework for Heart Rate Monitoring Using Wrist-Type Photoplethysmographic Signals During Intensive Physical Exercise,’’IEEE Trans. on Biomedical Engineering, vol. 62, no. 2, pp. 522-531, February 2015. Link\n",
    "\n",
    "-----"
   ]
  },
  {
   "cell_type": "markdown",
   "metadata": {},
   "source": [
    "### Code"
   ]
  },
  {
   "cell_type": "code",
   "execution_count": 5,
   "metadata": {},
   "outputs": [],
   "source": [
    "import glob\n",
    "\n",
    "import numpy as np\n",
    "import scipy as sp\n",
    "import scipy.io\n",
    "import scipy.signal\n",
    "from matplotlib import pyplot as plt\n",
    "\n",
    "\n",
    "\n",
    "def LoadTroikaDataset():\n",
    "    \"\"\"\n",
    "    Retrieve the .mat filenames for the troika dataset.\n",
    "\n",
    "    Review the README in ./datasets/troika/ to understand the organization of the .mat files.\n",
    "\n",
    "    Returns:\n",
    "        data_fls: Names of the .mat files that contain signal data\n",
    "        ref_fls: Names of the .mat files that contain reference data\n",
    "        <data_fls> and <ref_fls> are ordered correspondingly, so that ref_fls[5] is the \n",
    "            reference data for data_fls[5], etc...\n",
    "    \"\"\"\n",
    "    data_dir = \"./datasets/troika/training_data\"\n",
    "    data_fls = sorted(glob.glob(data_dir + \"/DATA_*.mat\"))\n",
    "    ref_fls = sorted(glob.glob(data_dir + \"/REF_*.mat\"))\n",
    "    return data_fls, ref_fls\n",
    "\n",
    "def LoadTroikaDataFile(data_fl):\n",
    "    \"\"\"\n",
    "    Loads and extracts signals from a troika data file.\n",
    "\n",
    "    Usage:\n",
    "        data_fls, ref_fls = LoadTroikaDataset()\n",
    "        ppg, accx, accy, accz = LoadTroikaDataFile(data_fls[0])\n",
    "\n",
    "    Args:\n",
    "        data_fl: (str) filepath to a troika .mat file.\n",
    "\n",
    "    Returns:\n",
    "        numpy arrays for ppg, accx, accy, accz signals.\n",
    "    \"\"\"\n",
    "    data = sp.io.loadmat(data_fl)['sig']\n",
    "    return data[2:]\n",
    "\n",
    "def AggregateErrorMetric(pr_errors, confidence_est):\n",
    "    \"\"\"\n",
    "    Computes an aggregate error metric based on confidence estimates.\n",
    "\n",
    "    Computes the MAE at 90% availability. \n",
    "\n",
    "    Args:\n",
    "        pr_errors: a numpy array of errors between pulse rate estimates and corresponding \n",
    "            reference heart rates.\n",
    "        confidence_est: a numpy array of confidence estimates for each pulse rate\n",
    "            error.\n",
    "\n",
    "    Returns:\n",
    "        the MAE at 90% availability\n",
    "    \"\"\"\n",
    "    # Higher confidence means a better estimate. The best 90% of the estimates\n",
    "    #    are above the 10th percentile confidence.\n",
    "    percentile90_confidence = np.percentile(confidence_est, 10)\n",
    "\n",
    "    # Find the errors of the best pulse rate estimates\n",
    "    best_estimates = pr_errors[confidence_est >= percentile90_confidence]\n",
    "\n",
    "    # Return the mean absolute error\n",
    "    return np.mean(np.abs(best_estimates))\n",
    "\n",
    "def BandpassFilter(signal, pass_band):\n",
    "    '''\n",
    "    from fourier_transform_II exercise of Intro Digital sampling and Signal Processing\n",
    "    receive a signal and return band pass filter of it\n",
    "    \n",
    "    # fs 125 Hz as per troika dataset readme\n",
    "    '''\n",
    "    b, a = sp.signal.butter(5, pass_band, btype='bandpass', fs=125)\n",
    "    return sp.signal.filtfilt(b, a, signal)\n",
    "\n",
    "\n",
    "def CalcSNR(sig, hr_bpm=0):\n",
    "    '''\n",
    "    from 3-ppg-snr exercise of Intro Sensors\n",
    "    \n",
    "    receive a signal and heart rate and return noise ratio\n",
    "        '''\n",
    "    \n",
    "    # data is sampled at 125 Hz as per troika dataset readme\n",
    "    fs = 125\n",
    "    #convert hr_bpm to HZ\n",
    "    hr_f = hr_bpm / 60\n",
    "\n",
    "    #calculate frequency of 1st harmonic\n",
    "    harmonic_f = hr_f * 2\n",
    "\n",
    "    #compute fft\n",
    "    freqs=np.fft.rfftfreq(len(sig),1/fs)\n",
    "    fft_mag=np.abs(np.fft.rfft(sig,len(sig)))\n",
    "\n",
    "    #find frequency around heart heat and 1st harmonic\n",
    "    window_f=40/60 #40bpm in hz\n",
    "    fundamental_frequency_window = (freqs > hr_f - window_f) & (freqs < hr_f + window_f)\n",
    "    harmonic_frequency_window = (freqs > harmonic_f - window_f) & (freqs < harmonic_f + window_f)\n",
    "\n",
    "    # Compute signal power and noise power\n",
    "    signal_power = np.sum(fft_mag[(fundamental_frequency_window) | (harmonic_frequency_window)])\n",
    "    noise_power = np.sum(fft_mag[~((fundamental_frequency_window) | (harmonic_frequency_window))])\n",
    "    #signal_power = np.sum(fft_mag[(fundamental_frequency_window)])\n",
    "    #noise_power = np.sum(fft_mag)\n",
    "\n",
    "    # Compute SNR\n",
    "    snr = signal_power / noise_power\n",
    "    return snr, freqs, fft_mag\n",
    "\n",
    "\n",
    "def Evaluate():\n",
    "    \"\"\"\n",
    "    Top-level function evaluation function.\n",
    "\n",
    "    Runs the pulse rate algorithm on the Troika dataset and returns an aggregate error metric.\n",
    "\n",
    "    Returns:\n",
    "        Pulse rate error on the Troika dataset. See AggregateErrorMetric.\n",
    "    \"\"\"\n",
    "    # Retrieve dataset files\n",
    "    data_fls, ref_fls = LoadTroikaDataset()\n",
    "    errs, confs = [], []\n",
    "    for data_fl, ref_fl in zip(data_fls, ref_fls):\n",
    "        # Run the pulse rate algorithm on each trial in the dataset\n",
    "        errors, confidence = RunPulseRateAlgorithm(data_fl, ref_fl)\n",
    "        errs.append(errors)\n",
    "        confs.append(confidence)\n",
    "        # Compute aggregate error metric\n",
    "    errs = np.hstack(errs)\n",
    "    confs = np.hstack(confs)\n",
    "    return AggregateErrorMetric(errs, confs)\n",
    "\n",
    "def RunPulseRateAlgorithm(data_fl, ref_fl):\n",
    "    \n",
    "    #estimates pulse rate from the PPG signal and a 3-axis accelerometer.\n",
    "    #assumes pulse rate will be restricted between 40BPM (beats per minute) and 240BPM\n",
    "    #produces an estimation confidence. A higher confidence value means that this estimate should be more accurate than an estimate with a lower confidence value.\n",
    "    #produces an output at least every 2 seconds.\n",
    "   \n",
    "    \n",
    "    # Load data using LoadTroikaDataFile\n",
    "    ppg, accx, accy, accz = LoadTroikaDataFile(data_fl)\n",
    "    #based on readme file BMP0 field has the ground truth\n",
    "    reference_label = sp.io.loadmat(ref_fl)['BPM0'].reshape(-1)\n",
    "    #pulse rate restricted between 40BPM (beats per minute) and 240BPM\n",
    "    ppg_filtered = BandpassFilter(ppg, (40/60,240/60))\n",
    "    accx_filtered = BandpassFilter(accx, (40/60,240/60))\n",
    "    accy_filtered = BandpassFilter(accy, (40/60,240/60))\n",
    "    accz_filtered = BandpassFilter(accz, (40/60,240/60))\n",
    "    #acc_all_filtered = np.sqrt(accx_filtered**2 + accy_filtered**2 + accz_filtered**2)\n",
    "    # Compute pulse rate estimates and estimation confidence.\n",
    "\n",
    "    time_window = 8*125 #8s time as per troika readme  X fs\n",
    "    time_interval = 2*125 #2s time as per project requirement  X fs\n",
    "    \n",
    "    inferences = []\n",
    "    snrs = []\n",
    "    \n",
    "    for r in range(0, len(ppg_filtered)- time_window +1, time_interval):\n",
    "        r_final=r+time_window\n",
    "        ppg_range = ppg_filtered[r:r_final]\n",
    "        accx_range = accx_filtered[r:r_final]\n",
    "        accy_range = accy_filtered[r:r_final]\n",
    "        accz_range = accz_filtered[r:r_final]\n",
    "        #acc_range = acc_all_filtered[r:r_final]\n",
    "        \n",
    "        #get freq and fft_mag for signal\n",
    "        _, ppg_filtered_freq, ppg_filtered_mag = CalcSNR(ppg_range)\n",
    "        _, accx_freq, accx_mag = CalcSNR(accx_range)\n",
    "        _, accy_freq, accy_mag = CalcSNR(accy_range)\n",
    "        _, accz_freq, accz_mag = CalcSNR(accz_range)\n",
    "        \n",
    "        acc_all_mag = np.sqrt(accx_mag**2 + accy_mag**2 + accz_mag**2)\n",
    "        \n",
    "        #data wihtin 40-240 hz\n",
    "        ppg_filtered_freq = ppg_filtered_freq[(ppg_filtered_freq>40/60) & (ppg_filtered_freq<240/60)]\n",
    "        #acc_all_filtered_freq = acc_all_filtered_freq[(acc_all_filtered_freq>40/60) & (acc_all_filtered_freq<240/60)]\n",
    "        ppg_filtered_mag = ppg_filtered_mag[(ppg_filtered_freq>40/60) & (ppg_filtered_freq<240/60)]\n",
    "        #acc_all_filtered_mag = acc_all_filtered_mag[(acc_all_filtered_freq>40/60) & (acc_all_filtered_freq<240/60)]        \n",
    "        \n",
    "        #find peaks\n",
    "        ppg_filtered_pks = sp.signal.find_peaks(ppg_filtered_mag)[0]\n",
    "        acc_all_pks = sp.signal.find_peaks(acc_all_mag)[0]\n",
    "        \n",
    "        #data wihtin 40-240 hz\n",
    "        #ppg_filtered_pks = ppg_filtered_pks[(ppg_filtered_pks>40/60) & (ppg_filtered_pks<240/60)]\n",
    "        #acc_all_pks = acc_all_pks[(acc_all_pks>40/60) & (acc_all_pks<240/60)]\n",
    "        \n",
    "        \n",
    "        #order descending of pks\n",
    "        ppg_pks = -np.sort(-ppg_filtered_pks)\n",
    "        acc_pks = -np.sort(-acc_all_pks)\n",
    "        \n",
    "        #check if pk value is at accelerometer. if it is, try next. if all exists return 1st one\n",
    "        p=0\n",
    "        #if(len(ppg_pks)>0):\n",
    "        while ppg_pks[p] in acc_pks:\n",
    "            p+=1\n",
    "            if(p==len(ppg_pks)):\n",
    "                p=0\n",
    "                break\n",
    "\n",
    "        #get highest\n",
    "        ppg_pk = ppg_filtered_freq[ppg_pks[p]]\n",
    "        #else:\n",
    "        #    ppg_filtered_freq\n",
    "        #get snr\n",
    "        snr, _,_ = CalcSNR(ppg_filtered_freq,ppg_pk)\n",
    "        #window = (ppg_filtered_freq > ppg_pk - (40/60)) & (ppg_filtered_freq < ppg_pk + (40/60))  \n",
    "        #snr = np.sum(ppg_filtered_mag[window]) / np.sum(ppg_filtered_mag)\n",
    "\n",
    "        #predicted/inferenced valued\n",
    "        inferences.append(ppg_pk*60)\n",
    "        snrs.append(snr)\n",
    "    \n",
    "    \n",
    "    # Return per-estimate mean absolute error and confidence as a 2-tuple of numpy arrays.\n",
    "    errors, confidence = np.abs(np.subtract(inferences, reference_label)), snrs  # Dummy placeholders. Remove\n",
    "    return errors, confidence\n"
   ]
  },
  {
   "cell_type": "code",
   "execution_count": 6,
   "metadata": {},
   "outputs": [
    {
     "name": "stderr",
     "output_type": "stream",
     "text": [
      "/opt/conda/lib/python3.6/site-packages/ipykernel_launcher.py:183: VisibleDeprecationWarning: boolean index did not match indexed array along dimension 0; dimension is 501 but corresponding boolean dimension is 26\n"
     ]
    },
    {
     "data": {
      "text/plain": [
       "60.264048559444667"
      ]
     },
     "execution_count": 6,
     "metadata": {},
     "output_type": "execute_result"
    }
   ],
   "source": [
    "Evaluate()"
   ]
  },
  {
   "cell_type": "code",
   "execution_count": 4,
   "metadata": {},
   "outputs": [],
   "source": [
    "data_fls,ref_fls = LoadTroikaDataset()"
   ]
  },
  {
   "cell_type": "code",
   "execution_count": 3,
   "metadata": {},
   "outputs": [
    {
     "data": {
      "text/plain": [
       "['./datasets/troika/training_data/DATA_01_TYPE01.mat',\n",
       " './datasets/troika/training_data/DATA_02_TYPE02.mat',\n",
       " './datasets/troika/training_data/DATA_03_TYPE02.mat',\n",
       " './datasets/troika/training_data/DATA_04_TYPE01.mat',\n",
       " './datasets/troika/training_data/DATA_04_TYPE02.mat',\n",
       " './datasets/troika/training_data/DATA_05_TYPE02.mat',\n",
       " './datasets/troika/training_data/DATA_06_TYPE02.mat',\n",
       " './datasets/troika/training_data/DATA_07_TYPE02.mat',\n",
       " './datasets/troika/training_data/DATA_08_TYPE02.mat',\n",
       " './datasets/troika/training_data/DATA_10_TYPE02.mat',\n",
       " './datasets/troika/training_data/DATA_11_TYPE02.mat',\n",
       " './datasets/troika/training_data/DATA_12_TYPE02.mat']"
      ]
     },
     "execution_count": 3,
     "metadata": {},
     "output_type": "execute_result"
    }
   ],
   "source": [
    "data_fls#signal data"
   ]
  },
  {
   "cell_type": "code",
   "execution_count": 4,
   "metadata": {},
   "outputs": [
    {
     "data": {
      "text/plain": [
       "['./datasets/troika/training_data/REF_01_TYPE01.mat',\n",
       " './datasets/troika/training_data/REF_02_TYPE02.mat',\n",
       " './datasets/troika/training_data/REF_03_TYPE02.mat',\n",
       " './datasets/troika/training_data/REF_04_TYPE01.mat',\n",
       " './datasets/troika/training_data/REF_04_TYPE02.mat',\n",
       " './datasets/troika/training_data/REF_05_TYPE02.mat',\n",
       " './datasets/troika/training_data/REF_06_TYPE02.mat',\n",
       " './datasets/troika/training_data/REF_07_TYPE02.mat',\n",
       " './datasets/troika/training_data/REF_08_TYPE02.mat',\n",
       " './datasets/troika/training_data/REF_10_TYPE02.mat',\n",
       " './datasets/troika/training_data/REF_11_TYPE02.mat',\n",
       " './datasets/troika/training_data/REF_12_TYPE02.mat']"
      ]
     },
     "execution_count": 4,
     "metadata": {},
     "output_type": "execute_result"
    }
   ],
   "source": [
    "ref_fls#reference data"
   ]
  },
  {
   "cell_type": "code",
   "execution_count": 5,
   "metadata": {},
   "outputs": [],
   "source": [
    "ppg, accx, accy, accz = LoadTroikaDataFile(data_fls[0])"
   ]
  },
  {
   "cell_type": "code",
   "execution_count": 6,
   "metadata": {},
   "outputs": [
    {
     "data": {
      "text/plain": [
       "array([   4. ,    6. ,    3. , ...,   86. ,  104. ,  118.5])"
      ]
     },
     "execution_count": 6,
     "metadata": {},
     "output_type": "execute_result"
    }
   ],
   "source": [
    "ppg"
   ]
  },
  {
   "cell_type": "code",
   "execution_count": 7,
   "metadata": {},
   "outputs": [
    {
     "data": {
      "text/plain": [
       "array([-0.0702, -0.0702, -0.0546, ...,  0.4134,  0.4134,  0.4134])"
      ]
     },
     "execution_count": 7,
     "metadata": {},
     "output_type": "execute_result"
    }
   ],
   "source": [
    "accx"
   ]
  },
  {
   "cell_type": "code",
   "execution_count": 8,
   "metadata": {},
   "outputs": [
    {
     "data": {
      "text/plain": [
       "array([ 0.3432,  0.3588,  0.3666, ..., -0.2808, -0.273 , -0.273 ])"
      ]
     },
     "execution_count": 8,
     "metadata": {},
     "output_type": "execute_result"
    }
   ],
   "source": [
    "accy"
   ]
  },
  {
   "cell_type": "code",
   "execution_count": 9,
   "metadata": {},
   "outputs": [
    {
     "data": {
      "text/plain": [
       "array([ 0.9594,  0.9438,  0.936 , ...,  0.7254,  0.7176,  0.7254])"
      ]
     },
     "execution_count": 9,
     "metadata": {},
     "output_type": "execute_result"
    }
   ],
   "source": [
    "accz"
   ]
  },
  {
   "cell_type": "code",
   "execution_count": 80,
   "metadata": {},
   "outputs": [
    {
     "data": {
      "text/plain": [
       "[<matplotlib.lines.Line2D at 0x7f90d0a6dc18>]"
      ]
     },
     "execution_count": 80,
     "metadata": {},
     "output_type": "execute_result"
    },
    {
     "data": {
      "image/png": "[encoded data removed]",
      "text/plain": [
       "<matplotlib.figure.Figure at 0x7f90d0a6d908>"
      ]
     },
     "metadata": {
      "needs_background": "light"
     },
     "output_type": "display_data"
    }
   ],
   "source": [
    "#PPG peaks - 2-ppg-peaks exercise from Intro to Sensors\n",
    "pks, r = sp.signal.find_peaks(ppg)\n",
    "plt.plot(ppg_filtered)\n",
    "plt.plot(pks,ppg_filtered[pks], 'r.', ms=5)"
   ]
  },
  {
   "cell_type": "code",
   "execution_count": 105,
   "metadata": {},
   "outputs": [
    {
     "data": {
      "text/plain": [
       "array([37888, 37838, 37787, 37776, 37747])"
      ]
     },
     "execution_count": 105,
     "metadata": {},
     "output_type": "execute_result"
    }
   ],
   "source": [
    "-np.sort(-pks)[:5]"
   ]
  },
  {
   "cell_type": "code",
   "execution_count": 10,
   "metadata": {},
   "outputs": [
    {
     "ename": "NameError",
     "evalue": "name 'pks' is not defined",
     "output_type": "error",
     "traceback": [
      "\u001b[0;31m---------------------------------------------------------------------------\u001b[0m",
      "\u001b[0;31mNameError\u001b[0m                                 Traceback (most recent call last)",
      "\u001b[0;32m<ipython-input-10-cdf6a6023839>\u001b[0m in \u001b[0;36m<module>\u001b[0;34m()\u001b[0m\n\u001b[1;32m      1\u001b[0m \u001b[0;31m#average pulse\u001b[0m\u001b[0;34m\u001b[0m\u001b[0;34m\u001b[0m\u001b[0m\n\u001b[0;32m----> 2\u001b[0;31m \u001b[0mnp\u001b[0m\u001b[0;34m.\u001b[0m\u001b[0mmean\u001b[0m\u001b[0;34m(\u001b[0m\u001b[0;36m60\u001b[0m\u001b[0;34m/\u001b[0m\u001b[0;34m(\u001b[0m\u001b[0mnp\u001b[0m\u001b[0;34m.\u001b[0m\u001b[0mdiff\u001b[0m\u001b[0;34m(\u001b[0m\u001b[0mpks\u001b[0m\u001b[0;34m)\u001b[0m\u001b[0;34m/\u001b[0m\u001b[0;36m125\u001b[0m\u001b[0;34m)\u001b[0m\u001b[0;34m)\u001b[0m\u001b[0;34m\u001b[0m\u001b[0m\n\u001b[0m",
      "\u001b[0;31mNameError\u001b[0m: name 'pks' is not defined"
     ]
    }
   ],
   "source": [
    "#average pulse\n",
    "np.mean(60/(np.diff(pks)/125))"
   ]
  },
  {
   "cell_type": "code",
   "execution_count": 14,
   "metadata": {},
   "outputs": [
    {
     "name": "stdout",
     "output_type": "stream",
     "text": [
      "307.5\n",
      "[ 74.33920705]\n",
      "[ 233.16079295]\n"
     ]
    }
   ],
   "source": [
    "ppg, accx, accy, accz = LoadTroikaDataFile(data_fls[0])\n",
    "#based on readme file BMP0 field has the ground truth\n",
    "reference_label = sp.io.loadmat(ref_fls[0])['BPM0'] \n",
    "#pulse rate restricted between 40BPM (beats per minute) and 240BPM\n",
    "ppg_filtered = BandpassFilter(ppg, (40/60,240/60))\n",
    "accx_filtered = BandpassFilter(accx, (40/60,240/60))\n",
    "accy_filtered = BandpassFilter(accy, (40/60,240/60))\n",
    "accz_filtered = BandpassFilter(accz, (40/60,240/60))\n",
    "acc_all_filtered = np.sqrt(accx_filtered**2 + accy_filtered**2 + accz_filtered**2)\n",
    "# Compute pulse rate estimates and estimation confidence.\n",
    "\n",
    "time_window = 8*125 #8s time as per troika readme  X fs\n",
    "time_interval = 2*125 #2s time as per project requirement  X fs\n",
    "\n",
    "#for r in range(0, len(ppg_filtered)- time_window, time_interval):\n",
    "#    r_final=r+time_window\n",
    "\n",
    "ppg_range = ppg_filtered[0:1000]\n",
    "acc_range = acc_all_filtered[0:1000]\n",
    "\n",
    "_, ppg_filtered_freq, ppg_filtered_mag = CalcSNR(ppg_range)\n",
    "_, acc_all_filtered_freq, acc_all_filtered_mag = CalcSNR(acc_range)\n",
    "\n",
    "\n",
    "#data wihtin 40-240 hz\n",
    "#ppg_filtered_freq = ppg_filtered_freq[(ppg_filtered_freq>=40/60) & (ppg_filtered_freq<=240/60)]\n",
    "#acc_all_filtered_freq = acc_all_filtered_freq[(acc_all_filtered_freq>=40/60) & (acc_all_filtered_freq<=240/60)]\n",
    "#ppg_filtered_mag = ppg_filtered_mag[(ppg_filtered_freq>=40/60) & (ppg_filtered_freq<=240/60)]\n",
    "#acc_all_filtered_mag = acc_all_filtered_mag[(acc_all_filtered_freq>=40/60) & (acc_all_filtered_freq<=240/60)]\n",
    "\n",
    "ppg_filtered_pks = sp.signal.find_peaks(ppg_filtered_mag)[0]\n",
    "acc_all_filtered_pks = sp.signal.find_peaks(acc_all_filtered_mag)[0]\n",
    "\n",
    "#higher fft value used as reference to get acc value as well\n",
    "#ppg_filtered_high = ppg_filtered_freq[np.argmax(ppg_filtered_freq)]\n",
    "#acc_all_filtered_high = acc_all_filtered_freq[np.argmax(acc_all_filtered_freq)]\n",
    "\n",
    "#get 5 highest pks\n",
    "ppg_pks = -np.sort(-ppg_filtered_pks)[:5]\n",
    "acc_pks = -np.sort(-acc_all_filtered_pks)[:5]\n",
    "\n",
    "#check if pk value is at accelerometer\n",
    "p=0\n",
    "while ppg_pks[p] in acc_pks:\n",
    "    p+=1\n",
    "ppg_pk = ppg_filtered_freq[ppg_pks[p]]\n",
    "\n",
    "#get snr\n",
    "snr, _,_ = CalcSNR(ppg_filtered_freq,ppg_pk)\n",
    "\n",
    "print(ppg_pk*60)\n",
    "print(reference_label[int(0/(125*2))])\n",
    "print(np.abs(ppg_pk*60 - reference_label[int(0/(125*2))]))"
   ]
  },
  {
   "cell_type": "code",
   "execution_count": 132,
   "metadata": {},
   "outputs": [
    {
     "data": {
      "text/plain": [
       "(27,)"
      ]
     },
     "execution_count": 132,
     "metadata": {},
     "output_type": "execute_result"
    }
   ],
   "source": [
    "ppg_filtered_freq.shape"
   ]
  },
  {
   "cell_type": "code",
   "execution_count": 133,
   "metadata": {},
   "outputs": [
    {
     "data": {
      "text/plain": [
       "(27,)"
      ]
     },
     "execution_count": 133,
     "metadata": {},
     "output_type": "execute_result"
    }
   ],
   "source": [
    "ppg_filtered_mag.shape"
   ]
  },
  {
   "cell_type": "code",
   "execution_count": 12,
   "metadata": {},
   "outputs": [
    {
     "data": {
      "text/plain": [
       "[<matplotlib.lines.Line2D at 0x7f90d0d49da0>]"
      ]
     },
     "execution_count": 12,
     "metadata": {},
     "output_type": "execute_result"
    },
    {
     "data": {
      "image/png": "[encoded data removed]",
      "text/plain": [
       "<matplotlib.figure.Figure at 0x7f90f54ae978>"
      ]
     },
     "metadata": {
      "needs_background": "light"
     },
     "output_type": "display_data"
    }
   ],
   "source": [
    "plt.plot(ppg)"
   ]
  },
  {
   "cell_type": "code",
   "execution_count": 14,
   "metadata": {},
   "outputs": [
    {
     "data": {
      "text/plain": [
       "[<matplotlib.lines.Line2D at 0x7f90d0c58e48>]"
      ]
     },
     "execution_count": 14,
     "metadata": {},
     "output_type": "execute_result"
    },
    {
     "data": {
      "image/png": "[encoded data removed]",
      "text/plain": [
       "<matplotlib.figure.Figure at 0x7f90d0cbb278>"
      ]
     },
     "metadata": {
      "needs_background": "light"
     },
     "output_type": "display_data"
    }
   ],
   "source": [
    "plt.plot(ppg_filtered[0:1000])"
   ]
  },
  {
   "cell_type": "code",
   "execution_count": 31,
   "metadata": {},
   "outputs": [],
   "source": [
    "signal=ppg_filtered[0:1000]\n",
    "n_samples = len(signal)  # No zero padding\n",
    "freqs = np.fft.rfftfreq(n_samples, 1/125)\n",
    "fft = np.abs(np.fft.rfft(signal))"
   ]
  },
  {
   "cell_type": "code",
   "execution_count": 23,
   "metadata": {},
   "outputs": [
    {
     "data": {
      "text/plain": [
       "[<matplotlib.lines.Line2D at 0x7f90d0af7550>]"
      ]
     },
     "execution_count": 23,
     "metadata": {},
     "output_type": "execute_result"
    },
    {
     "data": {
      "image/png": "[encoded data removed]",
      "text/plain": [
       "<matplotlib.figure.Figure at 0x7f90d0be5898>"
      ]
     },
     "metadata": {
      "needs_background": "light"
     },
     "output_type": "display_data"
    }
   ],
   "source": [
    "plt.plot(fft[(freqs>40/60) & (freqs<240/60)])"
   ]
  },
  {
   "cell_type": "code",
   "execution_count": 32,
   "metadata": {},
   "outputs": [
    {
     "data": {
      "text/plain": [
       "(501,)"
      ]
     },
     "execution_count": 32,
     "metadata": {},
     "output_type": "execute_result"
    }
   ],
   "source": [
    "filt_ppg_specs, filt_ppg_freqs,_,filt_ppg_im = plt.specgram(filtered_ppg, NFFT = (8*125), Fs=125, noverlap=noverlap)\n",
    "    plt.close()"
   ]
  },
  {
   "cell_type": "markdown",
   "metadata": {},
   "source": [
    "-----\n",
    "### Project Write-up\n",
    "\n",
    "Answer the following prompts to demonstrate understanding of the algorithm you wrote for this specific context.\n",
    "\n",
    "> - **Code Description** - Include details so someone unfamiliar with your project will know how to run your code and use your algorithm. \n",
    "> - **Data Description** - Describe the dataset that was used to train and test the algorithm. Include its short-comings and what data would be required to build a more complete dataset.\n",
    "> - **Algorithhm Description** will include the following:\n",
    ">   - how the algorithm works\n",
    ">   - the specific aspects of the physiology that it takes advantage of\n",
    ">   - a describtion of the algorithm outputs\n",
    ">   - caveats on algorithm outputs \n",
    ">   - common failure modes\n",
    "> - **Algorithm Performance** - Detail how performance was computed (eg. using cross-validation or train-test split) and what metrics were optimized for. Include error metrics that would be relevant to users of your algorithm. Caveat your performance numbers by acknowledging how generalizable they may or may not be on different datasets.\n",
    "\n",
    "Your write-up goes here..."
   ]
  },
  {
   "cell_type": "markdown",
   "metadata": {},
   "source": [
    "-----\n",
    "### Next Steps\n",
    "You will now go to **Test Your Algorithm** to apply a unit test to confirm that your algorithm met the success criteria. "
   ]
  }
 ],
 "metadata": {
  "kernelspec": {
   "display_name": "Python 3",
   "language": "python",
   "name": "python3"
  },
  "language_info": {
   "codemirror_mode": {
    "name": "ipython",
    "version": 3
   },
   "file_extension": ".py",
   "mimetype": "text/x-python",
   "name": "python",
   "nbconvert_exporter": "python",
   "pygments_lexer": "ipython3",
   "version": "3.6.3"
  }
 },
 "nbformat": 4,
 "nbformat_minor": 4
}
