{
 "cells": [
  {
   "cell_type": "markdown",
   "metadata": {},
   "source": [
    "## Part 1: Pulse Rate Algorithm\n",
    "\n",
    "### Contents\n",
    "Fill out this notebook as part of your final project submission.\n",
    "\n",
    "**You will have to complete both the Code and Project Write-up sections.**\n",
    "- The [Code](#Code) is where you will write a **pulse rate algorithm** and already includes the starter code.\n",
    "   - Imports - These are the imports needed for Part 1 of the final project. \n",
    "     - [glob](https://docs.python.org/3/library/glob.html)\n",
    "     - [numpy](https://numpy.org/)\n",
    "     - [scipy](https://www.scipy.org/)\n",
    "- The [Project Write-up](#Project-Write-up) to describe why you wrote the algorithm for the specific case.\n",
    "\n",
    "\n",
    "### Dataset\n",
    "You will be using the **Troika**[1] dataset to build your algorithm. Find the dataset under `datasets/troika/training_data`. The `README` in that folder will tell you how to interpret the data. The starter code contains a function to help load these files.\n",
    "\n",
    "1. Zhilin Zhang, Zhouyue Pi, Benyuan Liu, ‘‘TROIKA: A General Framework for Heart Rate Monitoring Using Wrist-Type Photoplethysmographic Signals During Intensive Physical Exercise,’’IEEE Trans. on Biomedical Engineering, vol. 62, no. 2, pp. 522-531, February 2015. Link\n",
    "\n",
    "-----"
   ]
  },
  {
   "cell_type": "markdown",
   "metadata": {},
   "source": [
    "### Code"
   ]
  },
  {
   "cell_type": "code",
   "execution_count": null,
   "metadata": {},
   "outputs": [],
   "source": [
    "import glob\n",
    "\n",
    "import numpy as np\n",
    "import scipy as sp\n",
    "import scipy.io\n",
    "import scipy.signal\n",
    "from matplotlib import pyplot as plt\n",
    "\n",
    "\n",
    "def LoadTroikaDataset():\n",
    "    \"\"\"\n",
    "    Retrieve the .mat filenames for the troika dataset.\n",
    "\n",
    "    Review the README in ./datasets/troika/ to understand the organization of the .mat files.\n",
    "\n",
    "    Returns:\n",
    "        data_fls: Names of the .mat files that contain signal data\n",
    "        ref_fls: Names of the .mat files that contain reference data\n",
    "        <data_fls> and <ref_fls> are ordered correspondingly, so that ref_fls[5] is the \n",
    "            reference data for data_fls[5], etc...\n",
    "    \"\"\"\n",
    "    data_dir = \"./datasets/troika/training_data\"\n",
    "    data_fls = sorted(glob.glob(data_dir + \"/DATA_*.mat\"))\n",
    "    ref_fls = sorted(glob.glob(data_dir + \"/REF_*.mat\"))\n",
    "    return data_fls, ref_fls\n",
    "\n",
    "def LoadTroikaDataFile(data_fl):\n",
    "    \"\"\"\n",
    "    Loads and extracts signals from a troika data file.\n",
    "\n",
    "    Usage:\n",
    "        data_fls, ref_fls = LoadTroikaDataset()\n",
    "        ppg, accx, accy, accz = LoadTroikaDataFile(data_fls[0])\n",
    "\n",
    "    Args:\n",
    "        data_fl: (str) filepath to a troika .mat file.\n",
    "\n",
    "    Returns:\n",
    "        numpy arrays for ppg, accx, accy, accz signals.\n",
    "    \"\"\"\n",
    "    data = sp.io.loadmat(data_fl)['sig']\n",
    "    return data[2:]\n",
    "\n",
    "\n",
    "def AggregateErrorMetric(pr_errors, confidence_est):\n",
    "    \"\"\"\n",
    "    Computes an aggregate error metric based on confidence estimates.\n",
    "\n",
    "    Computes the MAE at 90% availability. \n",
    "\n",
    "    Args:\n",
    "        pr_errors: a numpy array of errors between pulse rate estimates and corresponding \n",
    "            reference heart rates.\n",
    "        confidence_est: a numpy array of confidence estimates for each pulse rate\n",
    "            error.\n",
    "\n",
    "    Returns:\n",
    "        the MAE at 90% availability\n",
    "    \"\"\"\n",
    "    # Higher confidence means a better estimate. The best 90% of the estimates\n",
    "    #    are above the 10th percentile confidence.\n",
    "    percentile90_confidence = np.percentile(confidence_est, 10)\n",
    "\n",
    "    # Find the errors of the best pulse rate estimates\n",
    "    best_estimates = pr_errors[confidence_est >= percentile90_confidence]\n",
    "\n",
    "    # Return the mean absolute error\n",
    "    return np.mean(np.abs(best_estimates))\n",
    "\n",
    "def Evaluate():\n",
    "    \"\"\"\n",
    "    Top-level function evaluation function.\n",
    "\n",
    "    Runs the pulse rate algorithm on the Troika dataset and returns an aggregate error metric.\n",
    "\n",
    "    Returns:\n",
    "        Pulse rate error on the Troika dataset. See AggregateErrorMetric.\n",
    "    \"\"\"\n",
    "    # Retrieve dataset files\n",
    "    data_fls, ref_fls = LoadTroikaDataset()\n",
    "    errs, confs = [], []\n",
    "    for data_fl, ref_fl in zip(data_fls, ref_fls):\n",
    "        # Run the pulse rate algorithm on each trial in the dataset\n",
    "        errors, confidence = RunPulseRateAlgorithm(data_fl, ref_fl)\n",
    "        errs.append(errors)\n",
    "        confs.append(confidence)\n",
    "        # Compute aggregate error metric\n",
    "    errs = np.hstack(errs)\n",
    "    confs = np.hstack(confs)\n",
    "    return AggregateErrorMetric(errs, confs)\n",
    "\n",
    "def BandpassFilter(signal, pass_band):\n",
    "    '''\n",
    "    from fourier_transform_II exercise of Intro Digital sampling and Signal Processing\n",
    "    receive a signal and return band pass filter of it\n",
    "    \n",
    "    # fs 125 Hz as per troika dataset readme\n",
    "    '''\n",
    "    b, a = scipy.signal.butter(5, pass_band, btype='bandpass', fs=125)\n",
    "    return scipy.signal.filtfilt(b, a, signal)\n",
    "\n",
    "\n",
    "def RunPulseRateAlgorithm(data_fl, ref_fl):\n",
    "    # Load data using LoadTroikaDataFile\n",
    "    ppg, accx, accy, accz = LoadTroikaDataFile(data_fl)\n",
    "    \n",
    "    #based on readme file BMP0 field has the ground truth\n",
    "    reference_label = sp.io.loadmat(ref_fl)['BPM0'].reshape(-1)\n",
    "\n",
    "    #pulse rate restricted between 40BPM (beats per minute) and 240BPM\n",
    "    ppg_filtered = BandpassFilter(ppg, (40/60,240/60))\n",
    "    \n",
    "    accx_filtered = BandpassFilter(accx, (40/60,240/60))\n",
    "    accy_filtered = BandpassFilter(accy, (40/60,240/60))\n",
    "    accz_filtered = BandpassFilter(accz, (40/60,240/60))\n",
    "\n",
    "    time_window = 8*125\n",
    "    time_interval = 2*125 #2s time as per project requirement  X fs\n",
    "    freq_list = []\n",
    "    conf_list=[]\n",
    "    for window in range(0, len(ppg_filtered)- time_window +1, time_interval):\n",
    "        #print(f'{window} / {window+time_window}')\n",
    "        #filter signals per window of 1000 points\n",
    "        ppg_range= ppg_filtered[window:window+time_window]\n",
    "        accx_range = accx_filtered[window:window+time_window]\n",
    "        accy_range = accy_filtered[window:window+time_window]\n",
    "        accz_range = accz_filtered[window:window+time_window]\n",
    "        #calculate fft based on Fourier transform in practice lession 2, chapter 13\n",
    "        ppg_ft = np.abs(np.fft.rfft(ppg_range))\n",
    "        accx_ft = np.abs(np.fft.rfft(accx_range))\n",
    "        accy_ft = np.abs(np.fft.rfft(accy_range))\n",
    "        accz_ft = np.abs(np.fft.rfft(accz_range))\n",
    "        #calculate its frequencies\n",
    "        ppg_freq = np.fft.rfftfreq(len(ppg_range),1/125)\n",
    "        #accx_freq = np.fft.rfftfreq(len(accx_range),1/125)\n",
    "        #accy_freq = np.fft.rfftfreq(len(accy_range),1/125)\n",
    "        #accz_freq = np.fft.rfftfreq(len(accz_range),1/125)\n",
    "        \n",
    "        #filter freq between 40BPM (beats per minute) and 240BPM\n",
    "        ppg_ft = ppg_ft[(ppg_freq >= (40/60)) & (ppg_freq <= (240/60))]\n",
    "        ppg_freq = ppg_freq[(ppg_freq >= (40/60)) & (ppg_freq <= (240/60))]\n",
    "        \n",
    "\n",
    "\n",
    "        ppg_peaks= scipy.signal.find_peaks(ppg_ft)[0]\n",
    "        accx_peaks= scipy.signal.find_peaks(accx_ft)[0]\n",
    "        accy_peaks= scipy.signal.find_peaks(accy_ft)[0]\n",
    "        accz_peaks= scipy.signal.find_peaks(accz_ft)[0]\n",
    "\n",
    "        #find highest peak that is not in the accelerometer\n",
    "        peak =ppg_peaks[-1]\n",
    "        for pk in range(len(ppg_peaks)-1,0,-1):\n",
    "            if(ppg_peaks[pk] not in accx_peaks):\n",
    "                if(ppg_peaks[pk] not in accy_peaks):\n",
    "                    if(ppg_peaks[pk] not in accz_peaks):\n",
    "                        peak=ppg_peaks[pk]\n",
    "                        break\n",
    "\n",
    "        #get frequency from that peak\n",
    "        freq = ppg_freq[list(ppg_peaks).index(peak)]\n",
    "\n",
    "    # Compute pulse rate estimates and estimation confidence.\n",
    "        #freq*60 for BPM\n",
    "        freq_list.append(freq*60)\n",
    "        freqs_around = (ppg_freq >= freq - 10/60) & (ppg_freq <= freq + 10/60)\n",
    "        conf_list.append(np.sum(ppg_ft[freqs_around])/np.sum(ppg_ft))\n",
    "        #plt.figure(figsize=(12, 8))\n",
    "        #plt.plot(peak,ppg_ft,'r.')\n",
    "        #plt.show()\n",
    "\n",
    "\n",
    "    \n",
    "    # Return per-estimate mean absolute error and confidence as a 2-tuple of numpy arrays.\n",
    "    errors, confidence = np.abs(np.subtract(np.array(freq_list),reference_label)), np.array(conf_list)  # Dummy placeholders. Remove\n",
    "    return errors, confidence"
   ]
  },
  {
   "cell_type": "code",
   "execution_count": null,
   "metadata": {},
   "outputs": [],
   "source": [
    "Evaluate()"
   ]
  },
  {
   "cell_type": "code",
   "execution_count": null,
   "metadata": {},
   "outputs": [],
   "source": [
    "data_fls,ref_fls = LoadTroikaDataset()"
   ]
  },
  {
   "cell_type": "code",
   "execution_count": null,
   "metadata": {},
   "outputs": [],
   "source": [
    "data_fls#signal data"
   ]
  },
  {
   "cell_type": "code",
   "execution_count": null,
   "metadata": {},
   "outputs": [],
   "source": [
    "ref_fls#reference data"
   ]
  },
  {
   "cell_type": "code",
   "execution_count": null,
   "metadata": {},
   "outputs": [],
   "source": [
    "ppg, accx, accy, accz = LoadTroikaDataFile(data_fls[0])"
   ]
  },
  {
   "cell_type": "code",
   "execution_count": null,
   "metadata": {},
   "outputs": [],
   "source": [
    "ppg"
   ]
  },
  {
   "cell_type": "code",
   "execution_count": null,
   "metadata": {},
   "outputs": [],
   "source": [
    "accx"
   ]
  },
  {
   "cell_type": "code",
   "execution_count": null,
   "metadata": {},
   "outputs": [],
   "source": [
    "accy"
   ]
  },
  {
   "cell_type": "code",
   "execution_count": null,
   "metadata": {},
   "outputs": [],
   "source": [
    "accz"
   ]
  },
  {
   "cell_type": "code",
   "execution_count": null,
   "metadata": {},
   "outputs": [],
   "source": [
    "#PPG peaks - 2-ppg-peaks exercise from Intro to Sensors\n",
    "pks, r = sp.signal.find_peaks(ppg)\n",
    "plt.plot(ppg_filtered)\n",
    "plt.plot(pks,ppg_filtered[pks], 'r.', ms=5)"
   ]
  },
  {
   "cell_type": "code",
   "execution_count": null,
   "metadata": {},
   "outputs": [],
   "source": [
    "-np.sort(-pks)[:5]"
   ]
  },
  {
   "cell_type": "code",
   "execution_count": null,
   "metadata": {},
   "outputs": [],
   "source": [
    "#average pulse\n",
    "np.mean(60/(np.diff(pks)/125))"
   ]
  },
  {
   "cell_type": "code",
   "execution_count": null,
   "metadata": {},
   "outputs": [],
   "source": [
    "ppg, accx, accy, accz = LoadTroikaDataFile(data_fls[0])\n",
    "#based on readme file BMP0 field has the ground truth\n",
    "reference_label = sp.io.loadmat(ref_fls[0])['BPM0'] \n",
    "#pulse rate restricted between 40BPM (beats per minute) and 240BPM\n",
    "ppg_filtered = BandpassFilter(ppg, (40/60,240/60))\n",
    "accx_filtered = BandpassFilter(accx, (40/60,240/60))\n",
    "accy_filtered = BandpassFilter(accy, (40/60,240/60))\n",
    "accz_filtered = BandpassFilter(accz, (40/60,240/60))\n",
    "acc_all_filtered = np.sqrt(accx_filtered**2 + accy_filtered**2 + accz_filtered**2)\n",
    "# Compute pulse rate estimates and estimation confidence.\n",
    "\n",
    "time_window = 8*125 #8s time as per troika readme  X fs\n",
    "time_interval = 2*125 #2s time as per project requirement  X fs\n",
    "\n",
    "#for r in range(0, len(ppg_filtered)- time_window, time_interval):\n",
    "#    r_final=r+time_window\n",
    "\n",
    "ppg_range = ppg_filtered[0:1000]\n",
    "acc_range = acc_all_filtered[0:1000]\n",
    "\n",
    "_, ppg_filtered_freq, ppg_filtered_mag = CalcSNR(ppg_range)\n",
    "_, acc_all_filtered_freq, acc_all_filtered_mag = CalcSNR(acc_range)\n",
    "\n",
    "\n",
    "#data wihtin 40-240 hz\n",
    "#ppg_filtered_freq = ppg_filtered_freq[(ppg_filtered_freq>=40/60) & (ppg_filtered_freq<=240/60)]\n",
    "#acc_all_filtered_freq = acc_all_filtered_freq[(acc_all_filtered_freq>=40/60) & (acc_all_filtered_freq<=240/60)]\n",
    "#ppg_filtered_mag = ppg_filtered_mag[(ppg_filtered_freq>=40/60) & (ppg_filtered_freq<=240/60)]\n",
    "#acc_all_filtered_mag = acc_all_filtered_mag[(acc_all_filtered_freq>=40/60) & (acc_all_filtered_freq<=240/60)]\n",
    "\n",
    "ppg_filtered_pks = sp.signal.find_peaks(ppg_filtered_mag)[0]\n",
    "acc_all_filtered_pks = sp.signal.find_peaks(acc_all_filtered_mag)[0]\n",
    "\n",
    "#higher fft value used as reference to get acc value as well\n",
    "#ppg_filtered_high = ppg_filtered_freq[np.argmax(ppg_filtered_freq)]\n",
    "#acc_all_filtered_high = acc_all_filtered_freq[np.argmax(acc_all_filtered_freq)]\n",
    "\n",
    "#get 5 highest pks\n",
    "ppg_pks = -np.sort(-ppg_filtered_pks)[:5]\n",
    "acc_pks = -np.sort(-acc_all_filtered_pks)[:5]\n",
    "\n",
    "#check if pk value is at accelerometer\n",
    "p=0\n",
    "while ppg_pks[p] in acc_pks:\n",
    "    p+=1\n",
    "ppg_pk = ppg_filtered_freq[ppg_pks[p]]\n",
    "\n",
    "#get snr\n",
    "snr, _,_ = CalcSNR(ppg_filtered_freq,ppg_pk)\n",
    "\n",
    "print(ppg_pk*60)\n",
    "print(reference_label[int(0/(125*2))])\n",
    "print(np.abs(ppg_pk*60 - reference_label[int(0/(125*2))]))"
   ]
  },
  {
   "cell_type": "code",
   "execution_count": null,
   "metadata": {},
   "outputs": [],
   "source": [
    "ppg_filtered_freq.shape"
   ]
  },
  {
   "cell_type": "code",
   "execution_count": null,
   "metadata": {},
   "outputs": [],
   "source": [
    "ppg_filtered_mag.shape"
   ]
  },
  {
   "cell_type": "code",
   "execution_count": null,
   "metadata": {},
   "outputs": [],
   "source": [
    "plt.plot(ppg)"
   ]
  },
  {
   "cell_type": "code",
   "execution_count": null,
   "metadata": {},
   "outputs": [],
   "source": [
    "plt.plot(ppg_filtered[0:1000])"
   ]
  },
  {
   "cell_type": "code",
   "execution_count": null,
   "metadata": {},
   "outputs": [],
   "source": [
    "signal=ppg_filtered[0:1000]\n",
    "n_samples = len(signal)  # No zero padding\n",
    "freqs = np.fft.rfftfreq(n_samples, 1/125)\n",
    "fft = np.abs(np.fft.rfft(signal))"
   ]
  },
  {
   "cell_type": "code",
   "execution_count": null,
   "metadata": {},
   "outputs": [],
   "source": [
    "plt.plot(fft[(freqs>40/60) & (freqs<240/60)])"
   ]
  },
  {
   "cell_type": "code",
   "execution_count": null,
   "metadata": {},
   "outputs": [],
   "source": [
    "filt_ppg_specs, filt_ppg_freqs,_,filt_ppg_im = plt.specgram(filtered_ppg, NFFT = (8*125), Fs=125, noverlap=noverlap)\n",
    "    plt.close()"
   ]
  },
  {
   "cell_type": "markdown",
   "metadata": {},
   "source": [
    "-----\n",
    "### Project Write-up\n",
    "\n",
    "Answer the following prompts to demonstrate understanding of the algorithm you wrote for this specific context.\n",
    "\n",
    "> - **Code Description** - Include details so someone unfamiliar with your project will know how to run your code and use your algorithm. \n",
    "> - **Data Description** - Describe the dataset that was used to train and test the algorithm. Include its short-comings and what data would be required to build a more complete dataset.\n",
    "> - **Algorithhm Description** will include the following:\n",
    ">   - how the algorithm works\n",
    ">   - the specific aspects of the physiology that it takes advantage of\n",
    ">   - a describtion of the algorithm outputs\n",
    ">   - caveats on algorithm outputs \n",
    ">   - common failure modes\n",
    "> - **Algorithm Performance** - Detail how performance was computed (eg. using cross-validation or train-test split) and what metrics were optimized for. Include error metrics that would be relevant to users of your algorithm. Caveat your performance numbers by acknowledging how generalizable they may or may not be on different datasets.\n",
    "\n",
    "Your write-up goes here..."
   ]
  },
  {
   "cell_type": "markdown",
   "metadata": {},
   "source": [
    "-----\n",
    "### Next Steps\n",
    "You will now go to **Test Your Algorithm** to apply a unit test to confirm that your algorithm met the success criteria. "
   ]
  }
 ],
 "metadata": {
  "kernelspec": {
   "display_name": "Python 3",
   "language": "python",
   "name": "python3"
  },
  "language_info": {
   "codemirror_mode": {
    "name": "ipython",
    "version": 3
   },
   "file_extension": ".py",
   "mimetype": "text/x-python",
   "name": "python",
   "nbconvert_exporter": "python",
   "pygments_lexer": "ipython3",
   "version": "3.6.3"
  }
 },
 "nbformat": 4,
 "nbformat_minor": 4
}
